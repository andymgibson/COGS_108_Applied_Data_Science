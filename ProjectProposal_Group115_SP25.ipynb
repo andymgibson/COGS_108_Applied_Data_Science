{
 "cells": [
  {
   "cell_type": "markdown",
   "metadata": {},
   "source": [
    "# COGS 108 - Project Proposal"
   ]
  },
  {
   "cell_type": "markdown",
   "metadata": {},
   "source": [
    "# Names\n",
    "\n",
    "- Andrew Gibson\n",
    "- Sofia Morales-Fermin\n",
    "- Samantha Lincoln\n",
    "- Nayana Naineni\n",
    "- Ananya Wasker"
   ]
  },
  {
   "cell_type": "markdown",
   "metadata": {},
   "source": [
    "# Research Question"
   ]
  },
  {
   "cell_type": "markdown",
   "metadata": {},
   "source": [
    "-  Question: (1) Does the predictive power of traditional risk factors (e.g., BMI, BP, cholesterol) differ between patients with and without diabetes?\n",
    "We plan on investigating disease-specific risk modeling, important for individualized care. (2) Among those with no reported history of heart disease, can we identify a high-risk group who \"should\" have it based on their profile, and investigate what may be protective (e.g., exercise)?\n",
    "We plan on exploring protective factors in \"resilient\" individuals and determining if there is a discernible “high-risk” group in not CVD patients.\n",
    "\n",
    "-  Variables: -Q1- Independent: Diabetes, Dependents: Risk factors: BMI, BP, cholesterol, etc.; -Q2- Independents: Protective factors: i.e. exercise, good sleep hygiene, Dependents: high-risk group(s)\n",
    "\n"
   ]
  },
  {
   "cell_type": "markdown",
   "metadata": {},
   "source": [
    "## Background and Prior Work"
   ]
  },
  {
   "cell_type": "markdown",
   "metadata": {},
   "source": [
    "Background Research: Scientific Publications\n",
    "Cardiovascular disease (CVD) remains a leading cause of morbidity and mortality globally, with traditional risk factors such as high cholesterol, elevated BMI, hypertension, diabetes, smoking, and lack of exercise widely acknowledged as significant contributors. A study analyzing patients' knowledge of cardiovascular risk factors found that only about a third could correctly identify all the key health factors influencing cardiovascular health, highlighting substantial gaps in public awareness. Importantly, the study noted that patients with diabetes were more aware of their increased risk, although a significant portion (approximately 20%) remained unaware that diabetes itself is a risk factor for heart disease (Wartak et al., 2011).\n",
    "\n",
    "Research has demonstrated variability in the predictive power of traditional risk factors depending on diabetic status. Echouffo-Tcheugui and Kengne (2013) reviewed multiple risk assessment models and observed a potential advantage for diabetes-specific models over models based on the general population. Their analysis indicated that models developed specifically for diabetics, such as UKPDS and ADVANCE, often provided more accurate risk predictions in diabetic patients, emphasizing the importance of making predictive tools disease-specific.\n",
    "\n",
    "Further, a body of research has shown that not all individuals with diabetes experience the same level of cardiovascular risk. In 2015, Rana et al. found significant differences in CHD risk among diabetic individuals based on diabetes duration and presence of other cardiovascular risk factors, challenging the notion that diabetes alone confers a CHD risk equivalent to having prior coronary disease. This distinction is crucial for identifying high-risk groups without reported heart disease but whose risk profiles resemble those who have already experienced cardiac events.\n",
    "\n",
    "These findings support our investigation into whether the predictive power of traditional cardiovascular risk factors differs based on diabetic status, and whether we can identify \"resilient\" individuals – those who remain heart disease-free despite having high-risk profiles. Addressing these questions could enhance targeted preventive strategies and refine individualized patient care.\n",
    "\n",
    "Sources:\n",
    "1. Wartak et al., 2011: https://www.sciencedirect.com/science/article/pii/S0002914911003353\n",
    "2. Echouffo-Tcheugui and Kengne, 2013: https://www.sciencedirect.com/science/article/pii/S1262363613001298\n",
    "3. Rana et al., 2015: https://link.springer.com/article/10.1007/s11606-015-3556-3\n",
    "Background Research: Other Data Science Projects\n",
    "\n",
    "Aravind Pillai’s Kaggle notebook “Cardiac Disease Prediction with TabNet Deep Learn” applies TabNet architecture, which is a deep-learning model tailored for tabular data, and it was used to analyze the Cleveland heart-disease data set. The study preprocesses standard clinical features to train TabNet with k-fold cross-validation and report the model’s accuracy to be 80-82%. While the study shows that deep models are effective at capturing non-linear interactions from various risk-factors, the cohort group is treated as homogenous and does not evaluate performance separately from patients with or without diabetes. Moreover, the study also does not account for individuals that do not have any diseases despite having high-risk characteristics. The feature-ranking approach would be a great method to adopt for this project as it suggests a way to compare variability across subgroups. Furthermore, the analysis of the project could greatly benefit from making stratification models by diabetic status and then exploring groups with high-risk profiles but that do not have CVD.\n",
    "\n",
    "Mario Caesar’s Kaggle notebook “Listen to Your Heart: A Disease Prediction” uses more traditional machine learning tools such as exploratory analysis, feature engineering, and ensemble classifiers on the same data set. The model was able to achieve accuracies of about 85-88%. The EDA uses correlations among BMI, max heart rate, and chest pain type, and the feature-selection process using established thresholds, like considering individuals with cholesterol greater than 240 mg/dL with elevated CVD risk. On the other hand, Caesar’s analysis focuses on overall prediction but does not account for subgroup differences or protective factors. This approach highlights the critical role of thorough EDA and how ensemble models can boost overall prediction accuracy. In contrast, our study looks at how those same risk factors manifest differently for patients with and without diabetes.\n",
    "\n",
    "Sources:\n",
    "5. Aravind Pillai, Cardiac Disease Prevention with TabNet Deep Learn, https://www.kaggle.com/code/aspillai/cardiac-disease-prediction-with-tabnet-deep-learn/notebook. Accessed April 29, 2025.\n",
    "6. Mario Ceasar, Listen to Your Heart: A Disease Prediction,  https://www.kaggle.com/code/caesarmario/listen-to-your-heart-a-disease-prediction. Accessed April 29, 2025.\n"
   ]
  },
  {
   "cell_type": "markdown",
   "metadata": {},
   "source": [
    "# Hypothesis\n"
   ]
  },
  {
   "cell_type": "markdown",
   "metadata": {},
   "source": [
    "For the first research question, we hypothesize that the predictive power of traditional cardiovascular risk factors such as BMI, blood pressure, and cholesterol levels will differ significantly between diabetic and non-diabetic individuals. Since diabetes is a chronic, metabolic disease that specifically affects the heart (among other organs) and is a severe risk to heart health, we expect these factors to have significantly stronger predictive associations with heart disease in non-diabetic patients when compared to diabetic patients and therefore better predictive power.\n",
    "\n",
    "For the second research question, for individuals without a reported history of heart disease, we hypothesize that some subsets of people will, in fact, exhibit high-risk profiles based on their health and lifestyle data in the given dataset. We expect that protective factors such as frequent physical activity, healthy diet, or lower stress levels will be more common in these “resilient” high-risk individuals, serving as a buffer against disease development. Inversely, we hypothesize that individuals who do not have a history of heart disease but do exhibit less activity, high cholesterol, high stress levels, and other significant traits indicative of declining health are more susceptible to heart diseases developing in the future, which we want to predict from the dataset.\n"
   ]
  },
  {
   "cell_type": "markdown",
   "metadata": {},
   "source": [
    "# Data"
   ]
  },
  {
   "cell_type": "markdown",
   "metadata": {},
   "source": [
    "Our ideal dataset would be rich with behavioral as well as physical characteristics of each person, with at least 5000-10000 individual rows to support our analytical abilities and machine learning model. Ideally, this would be in a structured, tabular format with a variety of information on patients (adults ages 18-70), including:\n",
    "- Demographics: age, sex, race, income\n",
    "- Complete heart health data: BMI, blood pressure (systolic and diastolic), HDL cholesterol, total cholesterol, glucose, diabetes diagnosis, any medications, family history of disease etc.\n",
    "- Lifestyle data: physical activity, sleep data and sleep patterns, diet quality, smoking/non-smoking, alcohol usage and frequency, daily stress levels\n",
    "\n",
    "We choose that specific age range as people after 70 are particularly susceptible to cardiovascular diseases due to aging and would therefore, skew the data. All the above features would be necessary in disease risk prediction and patient profiling, two aspects that are crucial in answering our research question.\n",
    "\n",
    "From a search through Kaggle, data.gov and other public datasets, we have determined that this data is extremely accessible and publicly available. Datasets like https://www.kaggle.com/datasets/oktayrdeki/heart-disease have comprehensive health dataset on patients who did and did not have heart disease with all the information described above. We also came across datasets with much more information like https://www.kaggle.com/datasets/kamilpytlak/personal-key-indicators-of-heart-disease which have close to 433,000 data points and over 40 columns detailing additional information like vaccinations, arthritis, stroke, depression, COVID results, with the following source, which is CDC surveys all across the United States and is very recently updated. The description of the source is as follows:\n",
    "\n",
    "“The dataset originally comes from the CDC and is a major part of the Behavioral Risk Factor Surveillance System (BRFSS), which conducts annual telephone surveys to collect data on the health status of U.S. residents. As described by the CDC: \"Established in 1984 with 15 states, BRFSS now collects data in all 50 states, the District of Columbia, and three U.S. territories. BRFSS completes more than 400,000 adult interviews each year, making it the largest continuously conducted health survey system in the world. The most recent dataset includes data from 2023.”\n"
   ]
  },
  {
   "cell_type": "markdown",
   "metadata": {},
   "source": [
    "# Ethics & Privacy"
   ]
  },
  {
   "cell_type": "markdown",
   "metadata": {},
   "source": [
    "When researching our heart disease risk model, we carefully considered ethical concerns that could come up throughout our project. Since our research questions focus on traditional risk factors such as BMI and diabetes, there is a risk of reinforcing overgeneralizations or biases toward individuals based on these features. Although our dataset is from Kaggle,which is a widely accepted resource among data scientists, it doesn't specify if informed consent was obtained, which does raise potential privacy concerns. We do acknowledge that the dataset may contain biases related to gender or age representation that may affect our model. To address these concerns, we avoid deterministic language (e.g., saying someone \"should have\" heart disease). \n",
    "\n",
    "Unfortunately, our dataset does not mention many demographic characteristics like race or socioeconomic status, and we cannot conclude whether or not certain populations were excluded. In terms of gender, we see a 50-50 split between Male and Female, with 0% other which could be a limitation as only binary gender categories are included. Age appears to be equally distributed from participants ranging from 18 to 80 years old and approximately 1000 individuals from each 6 year sub-group (ie. 18-24). Our dataset does not specify its source which hinders us from understanding any potential biases it may contain. Moreover, a diagnosis for heart disease requires the availability of care facilities which may exclude certain individuals. \n",
    "\n",
    "In order to detect these biases, we will stratify analyses by their columns to check if model performance varies. We will also utilize evaluation criteria such as precision or recall to ensure equity. When communicating our analysis, we will report any biases found and the limitations of such to prevent inaccurate findings. \n",
    "Due to the medical nature of our data, there are many privacy risks that arise, however, given that our dataset does not contain any personal information regarding the individuals from which the medical data was collected, we are able to avoid this.\n",
    "\n",
    "It is worth noting that we could not locate a license for Oktay Ördekçi’s heart disease dataset despite his specifying that the license is “Other (specified in description).”"
   ]
  },
  {
   "cell_type": "markdown",
   "metadata": {},
   "source": [
    "# Team Expectations "
   ]
  },
  {
   "cell_type": "markdown",
   "metadata": {},
   "source": [
    "\n",
    "* (1) Communication: Based on technology requirements, we have determined that Instagram messages (commonly referred to as DMs) to communicate as a team. We will use this to plan group meetings and most importantly to schedule git commits so we do not create conflicts in the code.\n",
    "\n",
    "* (2) Tone: Direct, but considerate of others opinions and beliefs.\n",
    "\n",
    "* (3) Decision-Making:  Decision-making will be done through majority vote. If a teammate does not respond in a reasonable time, the rest of the group will move forward with the decision.\n",
    "\n",
    "* (4) Tasks, Division of Labor, and Specialization: Tasks will be chosen by specialization or by interest. We will update our shared Google Doc to track tasks and who is working on them.\n",
    "\n",
    "* (5) Schedule and Deadlines: Meetings will be scheduled based on availability and planned through group chats.\n",
    "\n",
    "* (6) Adherence Policies for Struggling Group Members: Members should reach out if falling behind or struggling. Team members will help or reassign tasks if needed.\n",
    "\n",
    "* (7) Check the #rules channel in our group Discord to stay updated on team expectations.\n"
   ]
  },
  {
   "cell_type": "markdown",
   "metadata": {},
   "source": [
    "# Project Timeline Proposal"
   ]
  },
  {
   "cell_type": "markdown",
   "metadata": {},
   "source": [
    "\n",
    "\n",
    "| Meeting Date | Meeting Time | Completed Before Meeting | Discuss at Meeting |\n",
    "|---|---|---|---|\n",
    "| 4/9  | 4pm  | Create Instagram Group chat, Discord and establish group synergy and communication. | Review past projects and research different interests for potential projects. |\n",
    "| 4/17  | 5pm  | Brainstorm topic ideas and prepare a list. | Decide on a specific area of research and come up with potential research questions. |\n",
    "| 4/21  | 4pm  | Look for relevant datasets. | Find datasets and make our topic more specific. Allocate work for project review. |\n",
    "| 4/29  | 5:30pm  | Look over expectations of course, collect more datasets. | Finalize research question and dataset. Allocate work for project proposal. |\n",
    "| 5/7  | 3pm  | Submit project proposal, work on feedback, implement changes! | Create project plan and framework. |\n",
    "| 5/11  | 2pm  | Allocate project sections to different members and begin work. | Work together to finish EDA and visualizations, descriptive analysis. |\n",
    "| 5/16  | 2pm  | Determine approaches to finding correlations between variables and dependent. | Members work together to finish correlation section with different methods to determine relationship between variables. |\n",
    "| 5/21  | 2pm  | Members work on brainstorming modelling approaches for predictive modelling. | Code and implement predictive baseline and advanced models. Review performance and tune/refine based on results. |\n",
    "| 5/25  | 2pm  | Begin drafting final results and conclusions. | Discuss interpretations of results, check all code thoroughly, finalize plots/visualizations. Do necessary write-ups for all sections of project and draft final report. |\n",
    "| 6/1  | 2pm  | Complete given checklist for project. | Complete the 5 minute video, submit on Github! |"
   ]
  },
  {
   "cell_type": "markdown",
   "metadata": {},
   "source": []
  }
 ],
 "metadata": {
  "kernelspec": {
   "display_name": "Python 3 (ipykernel)",
   "language": "python",
   "name": "python3"
  },
  "language_info": {
   "codemirror_mode": {
    "name": "ipython",
    "version": 3
   },
   "file_extension": ".py",
   "mimetype": "text/x-python",
   "name": "python",
   "nbconvert_exporter": "python",
   "pygments_lexer": "ipython3",
   "version": "3.9.7"
  }
 },
 "nbformat": 4,
 "nbformat_minor": 2
}
